{
  "nbformat": 4,
  "nbformat_minor": 0,
  "metadata": {
    "colab": {
      "provenance": [],
      "machine_shape": "hm",
      "gpuType": "V100"
    },
    "kernelspec": {
      "name": "python3",
      "display_name": "Python 3"
    },
    "language_info": {
      "name": "python"
    },
    "accelerator": "GPU"
  },
  "cells": [
    {
      "cell_type": "code",
      "execution_count": null,
      "metadata": {
        "colab": {
          "base_uri": "https://localhost:8080/",
          "height": 90
        },
        "id": "TmWVqcOKLeBc",
        "outputId": "6ad25169-1f3c-47c9-9159-8570cd2a543b"
      },
      "outputs": [
        {
          "output_type": "display_data",
          "data": {
            "text/plain": [
              "<IPython.core.display.HTML object>"
            ],
            "text/html": [
              "\n",
              "     <input type=\"file\" id=\"files-45a83be6-70a1-4ff5-a59e-727fc10ca9f2\" name=\"files[]\" multiple disabled\n",
              "        style=\"border:none\" />\n",
              "     <output id=\"result-45a83be6-70a1-4ff5-a59e-727fc10ca9f2\">\n",
              "      Upload widget is only available when the cell has been executed in the\n",
              "      current browser session. Please rerun this cell to enable.\n",
              "      </output>\n",
              "      <script>// Copyright 2017 Google LLC\n",
              "//\n",
              "// Licensed under the Apache License, Version 2.0 (the \"License\");\n",
              "// you may not use this file except in compliance with the License.\n",
              "// You may obtain a copy of the License at\n",
              "//\n",
              "//      http://www.apache.org/licenses/LICENSE-2.0\n",
              "//\n",
              "// Unless required by applicable law or agreed to in writing, software\n",
              "// distributed under the License is distributed on an \"AS IS\" BASIS,\n",
              "// WITHOUT WARRANTIES OR CONDITIONS OF ANY KIND, either express or implied.\n",
              "// See the License for the specific language governing permissions and\n",
              "// limitations under the License.\n",
              "\n",
              "/**\n",
              " * @fileoverview Helpers for google.colab Python module.\n",
              " */\n",
              "(function(scope) {\n",
              "function span(text, styleAttributes = {}) {\n",
              "  const element = document.createElement('span');\n",
              "  element.textContent = text;\n",
              "  for (const key of Object.keys(styleAttributes)) {\n",
              "    element.style[key] = styleAttributes[key];\n",
              "  }\n",
              "  return element;\n",
              "}\n",
              "\n",
              "// Max number of bytes which will be uploaded at a time.\n",
              "const MAX_PAYLOAD_SIZE = 100 * 1024;\n",
              "\n",
              "function _uploadFiles(inputId, outputId) {\n",
              "  const steps = uploadFilesStep(inputId, outputId);\n",
              "  const outputElement = document.getElementById(outputId);\n",
              "  // Cache steps on the outputElement to make it available for the next call\n",
              "  // to uploadFilesContinue from Python.\n",
              "  outputElement.steps = steps;\n",
              "\n",
              "  return _uploadFilesContinue(outputId);\n",
              "}\n",
              "\n",
              "// This is roughly an async generator (not supported in the browser yet),\n",
              "// where there are multiple asynchronous steps and the Python side is going\n",
              "// to poll for completion of each step.\n",
              "// This uses a Promise to block the python side on completion of each step,\n",
              "// then passes the result of the previous step as the input to the next step.\n",
              "function _uploadFilesContinue(outputId) {\n",
              "  const outputElement = document.getElementById(outputId);\n",
              "  const steps = outputElement.steps;\n",
              "\n",
              "  const next = steps.next(outputElement.lastPromiseValue);\n",
              "  return Promise.resolve(next.value.promise).then((value) => {\n",
              "    // Cache the last promise value to make it available to the next\n",
              "    // step of the generator.\n",
              "    outputElement.lastPromiseValue = value;\n",
              "    return next.value.response;\n",
              "  });\n",
              "}\n",
              "\n",
              "/**\n",
              " * Generator function which is called between each async step of the upload\n",
              " * process.\n",
              " * @param {string} inputId Element ID of the input file picker element.\n",
              " * @param {string} outputId Element ID of the output display.\n",
              " * @return {!Iterable<!Object>} Iterable of next steps.\n",
              " */\n",
              "function* uploadFilesStep(inputId, outputId) {\n",
              "  const inputElement = document.getElementById(inputId);\n",
              "  inputElement.disabled = false;\n",
              "\n",
              "  const outputElement = document.getElementById(outputId);\n",
              "  outputElement.innerHTML = '';\n",
              "\n",
              "  const pickedPromise = new Promise((resolve) => {\n",
              "    inputElement.addEventListener('change', (e) => {\n",
              "      resolve(e.target.files);\n",
              "    });\n",
              "  });\n",
              "\n",
              "  const cancel = document.createElement('button');\n",
              "  inputElement.parentElement.appendChild(cancel);\n",
              "  cancel.textContent = 'Cancel upload';\n",
              "  const cancelPromise = new Promise((resolve) => {\n",
              "    cancel.onclick = () => {\n",
              "      resolve(null);\n",
              "    };\n",
              "  });\n",
              "\n",
              "  // Wait for the user to pick the files.\n",
              "  const files = yield {\n",
              "    promise: Promise.race([pickedPromise, cancelPromise]),\n",
              "    response: {\n",
              "      action: 'starting',\n",
              "    }\n",
              "  };\n",
              "\n",
              "  cancel.remove();\n",
              "\n",
              "  // Disable the input element since further picks are not allowed.\n",
              "  inputElement.disabled = true;\n",
              "\n",
              "  if (!files) {\n",
              "    return {\n",
              "      response: {\n",
              "        action: 'complete',\n",
              "      }\n",
              "    };\n",
              "  }\n",
              "\n",
              "  for (const file of files) {\n",
              "    const li = document.createElement('li');\n",
              "    li.append(span(file.name, {fontWeight: 'bold'}));\n",
              "    li.append(span(\n",
              "        `(${file.type || 'n/a'}) - ${file.size} bytes, ` +\n",
              "        `last modified: ${\n",
              "            file.lastModifiedDate ? file.lastModifiedDate.toLocaleDateString() :\n",
              "                                    'n/a'} - `));\n",
              "    const percent = span('0% done');\n",
              "    li.appendChild(percent);\n",
              "\n",
              "    outputElement.appendChild(li);\n",
              "\n",
              "    const fileDataPromise = new Promise((resolve) => {\n",
              "      const reader = new FileReader();\n",
              "      reader.onload = (e) => {\n",
              "        resolve(e.target.result);\n",
              "      };\n",
              "      reader.readAsArrayBuffer(file);\n",
              "    });\n",
              "    // Wait for the data to be ready.\n",
              "    let fileData = yield {\n",
              "      promise: fileDataPromise,\n",
              "      response: {\n",
              "        action: 'continue',\n",
              "      }\n",
              "    };\n",
              "\n",
              "    // Use a chunked sending to avoid message size limits. See b/62115660.\n",
              "    let position = 0;\n",
              "    do {\n",
              "      const length = Math.min(fileData.byteLength - position, MAX_PAYLOAD_SIZE);\n",
              "      const chunk = new Uint8Array(fileData, position, length);\n",
              "      position += length;\n",
              "\n",
              "      const base64 = btoa(String.fromCharCode.apply(null, chunk));\n",
              "      yield {\n",
              "        response: {\n",
              "          action: 'append',\n",
              "          file: file.name,\n",
              "          data: base64,\n",
              "        },\n",
              "      };\n",
              "\n",
              "      let percentDone = fileData.byteLength === 0 ?\n",
              "          100 :\n",
              "          Math.round((position / fileData.byteLength) * 100);\n",
              "      percent.textContent = `${percentDone}% done`;\n",
              "\n",
              "    } while (position < fileData.byteLength);\n",
              "  }\n",
              "\n",
              "  // All done.\n",
              "  yield {\n",
              "    response: {\n",
              "      action: 'complete',\n",
              "    }\n",
              "  };\n",
              "}\n",
              "\n",
              "scope.google = scope.google || {};\n",
              "scope.google.colab = scope.google.colab || {};\n",
              "scope.google.colab._files = {\n",
              "  _uploadFiles,\n",
              "  _uploadFilesContinue,\n",
              "};\n",
              "})(self);\n",
              "</script> "
            ]
          },
          "metadata": {}
        },
        {
          "output_type": "stream",
          "name": "stdout",
          "text": [
            "Saving kaggle.json to kaggle.json\n",
            "User uploaded file \"kaggle.json\" with length 65 bytes\n"
          ]
        }
      ],
      "source": [
        "from google.colab import files\n",
        "\n",
        "uploaded = files.upload()\n",
        "\n",
        "for fn in uploaded.keys():\n",
        "  print('User uploaded file \"{name}\" with length {length} bytes'.format(\n",
        "      name=fn, length=len(uploaded[fn])))\n",
        "\n",
        "# Then move kaggle.json into the folder where the API expects to find it.\n",
        "!mkdir -p ~/.kaggle/ && mv kaggle.json ~/.kaggle/ && chmod 600 ~/.kaggle/kaggle.json"
      ]
    },
    {
      "cell_type": "code",
      "source": [
        "!kaggle datasets download -d nirmalsankalana/sugarcane-leaf-disease-dataset"
      ],
      "metadata": {
        "colab": {
          "base_uri": "https://localhost:8080/"
        },
        "id": "oWbbk9bfLwL_",
        "outputId": "96406951-86d8-41b0-8440-c48a4b2fe540"
      },
      "execution_count": null,
      "outputs": [
        {
          "output_type": "stream",
          "name": "stdout",
          "text": [
            "Downloading sugarcane-leaf-disease-dataset.zip to /content\n",
            " 98% 156M/160M [00:06<00:00, 26.7MB/s]\n",
            "100% 160M/160M [00:06<00:00, 26.6MB/s]\n"
          ]
        }
      ]
    },
    {
      "cell_type": "code",
      "source": [
        "import zipfile\n",
        "import os\n",
        "import tensorflow as tf\n",
        "from tensorflow import keras\n",
        "from keras.callbacks import ReduceLROnPlateau\n",
        "from sklearn.metrics import confusion_matrix, classification_report\n",
        "import numpy as np # linear algebra\n",
        "import pandas as pd\n",
        "import seaborn as sns\n",
        "import matplotlib.pyplot as plt\n",
        "from PIL import Image,  ImageTk\n",
        "from sklearn.model_selection import train_test_split\n",
        "from pathlib import Path\n"
      ],
      "metadata": {
        "id": "4QQq-7GcL08o"
      },
      "execution_count": null,
      "outputs": []
    },
    {
      "cell_type": "code",
      "source": [
        "import zipfile\n",
        "import os\n",
        "\n",
        "zip_file = \"/content/sugarcane-leaf-disease-dataset.zip\"\n",
        "extract_folder = \"extracted_folder\"\n",
        "\n",
        "# Create a ZipFile object\n",
        "with zipfile.ZipFile(zip_file, 'r') as zip_ref:\n",
        "    # Extract all the contents of zip file in the specified directory\n",
        "    zip_ref.extractall(extract_folder)\n",
        "\n",
        "print(\"Zip file extracted successfully!\")"
      ],
      "metadata": {
        "colab": {
          "base_uri": "https://localhost:8080/"
        },
        "id": "z0QkU1G5L38Y",
        "outputId": "110d3d82-c641-4166-9e51-7af7f043ef97"
      },
      "execution_count": null,
      "outputs": [
        {
          "output_type": "stream",
          "name": "stdout",
          "text": [
            "Zip file extracted successfully!\n"
          ]
        }
      ]
    },
    {
      "cell_type": "code",
      "source": [
        "import os\n",
        "import glob\n",
        "import shutil\n",
        "import random\n",
        "\n",
        "def get_files(directory):\n",
        "    if not os.path.exists(directory):\n",
        "        return 0\n",
        "    count = 0\n",
        "    # crawls inside folders\n",
        "    for current_path, dirs, files in os.walk(directory):\n",
        "        for dr in dirs:\n",
        "            count += len(glob.glob(os.path.join(current_path, dr + \"/*\")))\n",
        "    return count\n",
        "\n",
        "def split_dataset(source_dir, train_dir, test_dir, val_dir, split_ratio=(0.6, 0.2, 0.2)):\n",
        "    if not os.path.exists(train_dir):\n",
        "        os.makedirs(train_dir)\n",
        "    if not os.path.exists(test_dir):\n",
        "        os.makedirs(test_dir)\n",
        "    if not os.path.exists(val_dir):\n",
        "        os.makedirs(val_dir)\n",
        "\n",
        "    # Get list of classes\n",
        "    classes = os.listdir(source_dir)\n",
        "\n",
        "    for class_name in classes:\n",
        "        class_source_dir = os.path.join(source_dir, class_name)\n",
        "        class_train_dir = os.path.join(train_dir, class_name)\n",
        "        class_test_dir = os.path.join(test_dir, class_name)\n",
        "        class_val_dir = os.path.join(val_dir, class_name)\n",
        "\n",
        "        if not os.path.exists(class_train_dir):\n",
        "            os.makedirs(class_train_dir)\n",
        "        if not os.path.exists(class_test_dir):\n",
        "            os.makedirs(class_test_dir)\n",
        "        if not os.path.exists(class_val_dir):\n",
        "            os.makedirs(class_val_dir)\n",
        "\n",
        "        files = os.listdir(class_source_dir)\n",
        "        random.shuffle(files)\n",
        "\n",
        "        num_files = len(files)\n",
        "        num_train = int(num_files * split_ratio[0])\n",
        "        num_test = int(num_files * split_ratio[1])\n",
        "        num_val = num_files - num_train - num_test\n",
        "\n",
        "        train_files = files[:num_train]\n",
        "        test_files = files[num_train:num_train+num_test]\n",
        "        val_files = files[num_train+num_test:]\n",
        "\n",
        "        for file in train_files:\n",
        "            src = os.path.join(class_source_dir, file)\n",
        "            dst = os.path.join(class_train_dir, file)\n",
        "            shutil.copy(src, dst)\n",
        "\n",
        "        for file in test_files:\n",
        "            src = os.path.join(class_source_dir, file)\n",
        "            dst = os.path.join(class_test_dir, file)\n",
        "            shutil.copy(src, dst)\n",
        "\n",
        "        for file in val_files:\n",
        "            src = os.path.join(class_source_dir, file)\n",
        "            dst = os.path.join(class_val_dir, file)\n",
        "            shutil.copy(src, dst)\n",
        "\n",
        "source_dir = \"/content/extracted_folder\"\n",
        "train_dir = \"/content/train\"\n",
        "test_dir = \"/content/test\"\n",
        "val_dir = \"/content/val\"\n",
        "\n",
        "split_dataset(source_dir, train_dir, test_dir, val_dir)\n"
      ],
      "metadata": {
        "id": "-a7s2s--L7dT"
      },
      "execution_count": null,
      "outputs": []
    },
    {
      "cell_type": "code",
      "source": [
        "# Train file image count\n",
        "train_samples = get_files(train_dir)\n",
        "# Validation file image count\n",
        "val_samples = get_files(val_dir)\n",
        "# Test file image count\n",
        "test_samples = get_files(test_dir)\n",
        "# To get tags\n",
        "num_classes = len(glob.glob(os.path.join(train_dir, \"*\")))\n",
        "\n",
        "print(num_classes, \"Classes\")\n",
        "print(train_samples, \"Train images\")\n",
        "print(val_samples, \"Validation images\")\n",
        "print(test_samples, \"Test images\")"
      ],
      "metadata": {
        "colab": {
          "base_uri": "https://localhost:8080/"
        },
        "id": "17zlFcRLMAqj",
        "outputId": "5a757b8f-d474-40dd-fe90-596d981ea9ff"
      },
      "execution_count": null,
      "outputs": [
        {
          "output_type": "stream",
          "name": "stdout",
          "text": [
            "5 Classes\n",
            "1511 Train images\n",
            "508 Validation images\n",
            "502 Test images\n"
          ]
        }
      ]
    },
    {
      "cell_type": "code",
      "source": [
        "import tensorflow as tf\n",
        "from tensorflow.keras.applications import InceptionV3\n",
        "from tensorflow.keras import layers, models, callbacks\n",
        "from tensorflow.keras.preprocessing.image import ImageDataGenerator\n",
        "import matplotlib.pyplot as plt\n",
        "from sklearn.metrics import classification_report\n",
        "\n",
        "# Define directories and parameters\n",
        "train_dir = '/content/train'\n",
        "validation_dir = '/content/val'\n",
        "test_dir = '/content/test'\n",
        "img_height, img_width = 224, 224\n",
        "batch_size = 32\n",
        "epochs = 50\n",
        "\n",
        "# Define data generators with more augmentation\n",
        "train_datagen = ImageDataGenerator(\n",
        "    rescale=1./255,\n",
        "    rotation_range=20,\n",
        "    width_shift_range=0.2,\n",
        "    height_shift_range=0.2,\n",
        "    shear_range=0.2,\n",
        "    zoom_range=0.2,\n",
        "    horizontal_flip=True,\n",
        "    fill_mode='nearest'\n",
        ")\n",
        "validation_datagen = ImageDataGenerator(rescale=1./255)\n",
        "test_datagen = ImageDataGenerator(rescale=1./255)\n",
        "\n",
        "train_generator = train_datagen.flow_from_directory(\n",
        "    train_dir,\n",
        "    target_size=(img_height, img_width),\n",
        "    batch_size=batch_size,\n",
        "    class_mode='categorical'\n",
        ")\n",
        "\n",
        "validation_generator = validation_datagen.flow_from_directory(\n",
        "    validation_dir,\n",
        "    target_size=(img_height, img_width),\n",
        "    batch_size=batch_size,\n",
        "    class_mode='categorical'\n",
        ")\n",
        "\n",
        "test_generator = test_datagen.flow_from_directory(\n",
        "    test_dir,\n",
        "    target_size=(img_height, img_width),\n",
        "    batch_size=batch_size,\n",
        "    class_mode='categorical'\n",
        ")\n",
        "\n",
        "# Load InceptionV3 base model\n",
        "base_model = InceptionV3(input_shape=(img_height, img_width, 3), include_top=False, weights='imagenet')\n",
        "\n",
        "# Fine-tune only the top layers\n",
        "for layer in base_model.layers[:-10]:\n",
        "    layer.trainable = False\n",
        "\n",
        "# Construct the model\n",
        "model = models.Sequential([\n",
        "    base_model,\n",
        "    layers.GlobalAveragePooling2D(),\n",
        "    layers.Dense(256, activation='relu'),\n",
        "    layers.Dropout(0.5),\n",
        "    layers.Dense(train_generator.num_classes, activation='softmax')\n",
        "])\n",
        "\n",
        "# Compile the model\n",
        "model.compile(optimizer='adam', loss='categorical_crossentropy', metrics=['accuracy'])\n",
        "\n",
        "# Define early stopping callback\n",
        "early_stopping = callbacks.EarlyStopping(monitor='val_loss', patience=3, restore_best_weights=True)\n",
        "\n",
        "# Train the model with early stopping\n",
        "history = model.fit(\n",
        "    train_generator,\n",
        "    epochs=epochs,\n",
        "    validation_data=validation_generator,\n",
        "    callbacks=[early_stopping]\n",
        ")\n",
        "\n",
        "# Evaluate the model on the test data\n",
        "test_loss, test_acc = model.evaluate(test_generator)\n",
        "print(f'Test accuracy: {test_acc}')\n",
        "\n",
        "# Get true labels for the test data\n",
        "true_classes = []\n",
        "num_batches = len(test_generator)\n",
        "for i in range(num_batches):\n",
        "    _, batch_true_classes = test_generator[i]\n",
        "    true_classes.extend(batch_true_classes.argmax(axis=1))\n",
        "\n",
        "# Make predictions\n",
        "predictions = model.predict(test_generator)\n",
        "predicted_classes = predictions.argmax(axis=1)\n",
        "\n",
        "# Print classification report\n",
        "print(classification_report(true_classes, predicted_classes))\n"
      ],
      "metadata": {
        "colab": {
          "base_uri": "https://localhost:8080/"
        },
        "id": "LArTXZZBPYtW",
        "outputId": "45606c38-be69-4399-dd5d-67786b4f76b7"
      },
      "execution_count": null,
      "outputs": [
        {
          "output_type": "stream",
          "name": "stdout",
          "text": [
            "Found 1511 images belonging to 5 classes.\n",
            "Found 508 images belonging to 5 classes.\n",
            "Found 502 images belonging to 5 classes.\n",
            "Epoch 1/50\n",
            "48/48 [==============================] - 33s 605ms/step - loss: 1.4205 - accuracy: 0.4600 - val_loss: 0.9059 - val_accuracy: 0.6870\n",
            "Epoch 2/50\n",
            "48/48 [==============================] - 28s 580ms/step - loss: 1.0225 - accuracy: 0.6069 - val_loss: 0.8596 - val_accuracy: 0.6811\n",
            "Epoch 3/50\n",
            "48/48 [==============================] - 27s 570ms/step - loss: 0.9488 - accuracy: 0.6393 - val_loss: 0.7653 - val_accuracy: 0.7264\n",
            "Epoch 4/50\n",
            "48/48 [==============================] - 27s 571ms/step - loss: 0.8931 - accuracy: 0.6671 - val_loss: 0.7528 - val_accuracy: 0.7165\n",
            "Epoch 5/50\n",
            "48/48 [==============================] - 27s 566ms/step - loss: 0.8525 - accuracy: 0.6870 - val_loss: 0.7234 - val_accuracy: 0.7402\n",
            "Epoch 6/50\n",
            "48/48 [==============================] - 27s 570ms/step - loss: 0.7911 - accuracy: 0.7062 - val_loss: 0.6941 - val_accuracy: 0.7421\n",
            "Epoch 7/50\n",
            "48/48 [==============================] - 28s 577ms/step - loss: 0.8298 - accuracy: 0.6876 - val_loss: 0.6935 - val_accuracy: 0.7421\n",
            "Epoch 8/50\n",
            "48/48 [==============================] - 27s 565ms/step - loss: 0.8142 - accuracy: 0.6936 - val_loss: 0.6848 - val_accuracy: 0.7461\n",
            "Epoch 9/50\n",
            "48/48 [==============================] - 27s 563ms/step - loss: 0.7964 - accuracy: 0.6956 - val_loss: 0.6756 - val_accuracy: 0.7717\n",
            "Epoch 10/50\n",
            "48/48 [==============================] - 27s 565ms/step - loss: 0.7161 - accuracy: 0.7207 - val_loss: 0.6377 - val_accuracy: 0.7756\n",
            "Epoch 11/50\n",
            "48/48 [==============================] - 27s 566ms/step - loss: 0.7207 - accuracy: 0.7333 - val_loss: 0.6091 - val_accuracy: 0.7835\n",
            "Epoch 12/50\n",
            "48/48 [==============================] - 27s 564ms/step - loss: 0.7339 - accuracy: 0.7194 - val_loss: 0.6241 - val_accuracy: 0.7736\n",
            "Epoch 13/50\n",
            "48/48 [==============================] - 28s 575ms/step - loss: 0.7316 - accuracy: 0.7267 - val_loss: 0.6195 - val_accuracy: 0.7717\n",
            "Epoch 14/50\n",
            "48/48 [==============================] - 28s 576ms/step - loss: 0.7304 - accuracy: 0.7359 - val_loss: 0.6349 - val_accuracy: 0.7776\n",
            "16/16 [==============================] - 3s 215ms/step - loss: 0.6711 - accuracy: 0.7311\n",
            "Test accuracy: 0.7310757040977478\n",
            "16/16 [==============================] - 5s 210ms/step\n",
            "              precision    recall  f1-score   support\n",
            "\n",
            "           0       0.72      0.86      0.78       104\n",
            "           1       0.74      0.64      0.69        92\n",
            "           2       0.67      0.78      0.72       103\n",
            "           3       0.85      0.72      0.78       102\n",
            "           4       0.71      0.65      0.68       101\n",
            "\n",
            "    accuracy                           0.73       502\n",
            "   macro avg       0.74      0.73      0.73       502\n",
            "weighted avg       0.74      0.73      0.73       502\n",
            "\n"
          ]
        }
      ]
    },
    {
      "cell_type": "code",
      "source": [
        "from sklearn.metrics import confusion_matrix\n",
        "import matplotlib.pyplot as plt\n",
        "\n",
        "class_labels = list(test_generator.class_indices.keys())\n",
        "\n",
        "conf_matrix = confusion_matrix(true_classes, predicted_classes)\n",
        "print(\"Confusion Matrix:\")\n",
        "print(conf_matrix)\n",
        "\n",
        "\n",
        "plt.figure(figsize=(10, 6))\n",
        "plt.plot(history.history['loss'], label='Training Loss')\n",
        "plt.plot(history.history['val_loss'], label='Validation Loss')\n",
        "plt.title('Training and Validation Loss')\n",
        "plt.xlabel('Epoch')\n",
        "plt.ylabel('Loss')\n",
        "plt.legend()\n",
        "plt.show()"
      ],
      "metadata": {
        "colab": {
          "base_uri": "https://localhost:8080/",
          "height": 668
        },
        "id": "WcQ5mK03Mjd6",
        "outputId": "8cf12353-6cdc-41cf-b28d-4591c3e3e9b1"
      },
      "execution_count": null,
      "outputs": [
        {
          "output_type": "stream",
          "name": "stdout",
          "text": [
            "Confusion Matrix:\n",
            "[[89 10  1  1  3]\n",
            " [17 59  7  2  7]\n",
            " [ 0  3 80  8 12]\n",
            " [ 8  1 15 73  5]\n",
            " [10  7 16  2 66]]\n"
          ]
        },
        {
          "output_type": "display_data",
          "data": {
            "text/plain": [
              "<Figure size 1000x600 with 1 Axes>"
            ],
            "image/png": "[encoded data removed]"
          },
          "metadata": {}
        }
      ]
    },
    {
      "cell_type": "code",
      "source": [
        "plt.figure(figsize=(10, 6))\n",
        "plt.plot(history.history['accuracy'], label='Training Accuracy')\n",
        "plt.plot(history.history['val_accuracy'], label='Validation Accuracy')\n",
        "plt.title('Training and Validation Accuracy')\n",
        "plt.xlabel('Epoch')\n",
        "plt.ylabel('Accuracy')\n",
        "plt.legend()\n",
        "plt.show()\n"
      ],
      "metadata": {
        "colab": {
          "base_uri": "https://localhost:8080/",
          "height": 564
        },
        "id": "d2cyqwBTPOIs",
        "outputId": "fcbc49c1-89fd-4aed-a991-94c2565defb8"
      },
      "execution_count": null,
      "outputs": [
        {
          "output_type": "display_data",
          "data": {
            "text/plain": [
              "<Figure size 1000x600 with 1 Axes>"
            ],
            "image/png": "[encoded data removed]"
          },
          "metadata": {}
        }
      ]
    },
    {
      "cell_type": "code",
      "source": [],
      "metadata": {
        "id": "fSwS-GxRXJYy"
      },
      "execution_count": null,
      "outputs": []
    }
  ]
}