{
  "nbformat": 4,
  "nbformat_minor": 0,
  "metadata": {
    "colab": {
      "provenance": [],
      "machine_shape": "hm",
      "gpuType": "V100"
    },
    "kernelspec": {
      "name": "python3",
      "display_name": "Python 3"
    },
    "language_info": {
      "name": "python"
    },
    "accelerator": "GPU"
  },
  "cells": [
    {
      "cell_type": "code",
      "execution_count": null,
      "metadata": {
        "colab": {
          "base_uri": "https://localhost:8080/",
          "height": 90
        },
        "id": "UhkGjk62I1kk",
        "outputId": "fd22705b-065e-480d-aecc-4597f1e14373"
      },
      "outputs": [
        {
          "output_type": "display_data",
          "data": {
            "text/plain": [
              "<IPython.core.display.HTML object>"
            ],
            "text/html": [
              "\n",
              "     <input type=\"file\" id=\"files-541f4cb2-47c0-472b-9b26-ab18b1cd0c7d\" name=\"files[]\" multiple disabled\n",
              "        style=\"border:none\" />\n",
              "     <output id=\"result-541f4cb2-47c0-472b-9b26-ab18b1cd0c7d\">\n",
              "      Upload widget is only available when the cell has been executed in the\n",
              "      current browser session. Please rerun this cell to enable.\n",
              "      </output>\n",
              "      <script>// Copyright 2017 Google LLC\n",
              "//\n",
              "// Licensed under the Apache License, Version 2.0 (the \"License\");\n",
              "// you may not use this file except in compliance with the License.\n",
              "// You may obtain a copy of the License at\n",
              "//\n",
              "//      http://www.apache.org/licenses/LICENSE-2.0\n",
              "//\n",
              "// Unless required by applicable law or agreed to in writing, software\n",
              "// distributed under the License is distributed on an \"AS IS\" BASIS,\n",
              "// WITHOUT WARRANTIES OR CONDITIONS OF ANY KIND, either express or implied.\n",
              "// See the License for the specific language governing permissions and\n",
              "// limitations under the License.\n",
              "\n",
              "/**\n",
              " * @fileoverview Helpers for google.colab Python module.\n",
              " */\n",
              "(function(scope) {\n",
              "function span(text, styleAttributes = {}) {\n",
              "  const element = document.createElement('span');\n",
              "  element.textContent = text;\n",
              "  for (const key of Object.keys(styleAttributes)) {\n",
              "    element.style[key] = styleAttributes[key];\n",
              "  }\n",
              "  return element;\n",
              "}\n",
              "\n",
              "// Max number of bytes which will be uploaded at a time.\n",
              "const MAX_PAYLOAD_SIZE = 100 * 1024;\n",
              "\n",
              "function _uploadFiles(inputId, outputId) {\n",
              "  const steps = uploadFilesStep(inputId, outputId);\n",
              "  const outputElement = document.getElementById(outputId);\n",
              "  // Cache steps on the outputElement to make it available for the next call\n",
              "  // to uploadFilesContinue from Python.\n",
              "  outputElement.steps = steps;\n",
              "\n",
              "  return _uploadFilesContinue(outputId);\n",
              "}\n",
              "\n",
              "// This is roughly an async generator (not supported in the browser yet),\n",
              "// where there are multiple asynchronous steps and the Python side is going\n",
              "// to poll for completion of each step.\n",
              "// This uses a Promise to block the python side on completion of each step,\n",
              "// then passes the result of the previous step as the input to the next step.\n",
              "function _uploadFilesContinue(outputId) {\n",
              "  const outputElement = document.getElementById(outputId);\n",
              "  const steps = outputElement.steps;\n",
              "\n",
              "  const next = steps.next(outputElement.lastPromiseValue);\n",
              "  return Promise.resolve(next.value.promise).then((value) => {\n",
              "    // Cache the last promise value to make it available to the next\n",
              "    // step of the generator.\n",
              "    outputElement.lastPromiseValue = value;\n",
              "    return next.value.response;\n",
              "  });\n",
              "}\n",
              "\n",
              "/**\n",
              " * Generator function which is called between each async step of the upload\n",
              " * process.\n",
              " * @param {string} inputId Element ID of the input file picker element.\n",
              " * @param {string} outputId Element ID of the output display.\n",
              " * @return {!Iterable<!Object>} Iterable of next steps.\n",
              " */\n",
              "function* uploadFilesStep(inputId, outputId) {\n",
              "  const inputElement = document.getElementById(inputId);\n",
              "  inputElement.disabled = false;\n",
              "\n",
              "  const outputElement = document.getElementById(outputId);\n",
              "  outputElement.innerHTML = '';\n",
              "\n",
              "  const pickedPromise = new Promise((resolve) => {\n",
              "    inputElement.addEventListener('change', (e) => {\n",
              "      resolve(e.target.files);\n",
              "    });\n",
              "  });\n",
              "\n",
              "  const cancel = document.createElement('button');\n",
              "  inputElement.parentElement.appendChild(cancel);\n",
              "  cancel.textContent = 'Cancel upload';\n",
              "  const cancelPromise = new Promise((resolve) => {\n",
              "    cancel.onclick = () => {\n",
              "      resolve(null);\n",
              "    };\n",
              "  });\n",
              "\n",
              "  // Wait for the user to pick the files.\n",
              "  const files = yield {\n",
              "    promise: Promise.race([pickedPromise, cancelPromise]),\n",
              "    response: {\n",
              "      action: 'starting',\n",
              "    }\n",
              "  };\n",
              "\n",
              "  cancel.remove();\n",
              "\n",
              "  // Disable the input element since further picks are not allowed.\n",
              "  inputElement.disabled = true;\n",
              "\n",
              "  if (!files) {\n",
              "    return {\n",
              "      response: {\n",
              "        action: 'complete',\n",
              "      }\n",
              "    };\n",
              "  }\n",
              "\n",
              "  for (const file of files) {\n",
              "    const li = document.createElement('li');\n",
              "    li.append(span(file.name, {fontWeight: 'bold'}));\n",
              "    li.append(span(\n",
              "        `(${file.type || 'n/a'}) - ${file.size} bytes, ` +\n",
              "        `last modified: ${\n",
              "            file.lastModifiedDate ? file.lastModifiedDate.toLocaleDateString() :\n",
              "                                    'n/a'} - `));\n",
              "    const percent = span('0% done');\n",
              "    li.appendChild(percent);\n",
              "\n",
              "    outputElement.appendChild(li);\n",
              "\n",
              "    const fileDataPromise = new Promise((resolve) => {\n",
              "      const reader = new FileReader();\n",
              "      reader.onload = (e) => {\n",
              "        resolve(e.target.result);\n",
              "      };\n",
              "      reader.readAsArrayBuffer(file);\n",
              "    });\n",
              "    // Wait for the data to be ready.\n",
              "    let fileData = yield {\n",
              "      promise: fileDataPromise,\n",
              "      response: {\n",
              "        action: 'continue',\n",
              "      }\n",
              "    };\n",
              "\n",
              "    // Use a chunked sending to avoid message size limits. See b/62115660.\n",
              "    let position = 0;\n",
              "    do {\n",
              "      const length = Math.min(fileData.byteLength - position, MAX_PAYLOAD_SIZE);\n",
              "      const chunk = new Uint8Array(fileData, position, length);\n",
              "      position += length;\n",
              "\n",
              "      const base64 = btoa(String.fromCharCode.apply(null, chunk));\n",
              "      yield {\n",
              "        response: {\n",
              "          action: 'append',\n",
              "          file: file.name,\n",
              "          data: base64,\n",
              "        },\n",
              "      };\n",
              "\n",
              "      let percentDone = fileData.byteLength === 0 ?\n",
              "          100 :\n",
              "          Math.round((position / fileData.byteLength) * 100);\n",
              "      percent.textContent = `${percentDone}% done`;\n",
              "\n",
              "    } while (position < fileData.byteLength);\n",
              "  }\n",
              "\n",
              "  // All done.\n",
              "  yield {\n",
              "    response: {\n",
              "      action: 'complete',\n",
              "    }\n",
              "  };\n",
              "}\n",
              "\n",
              "scope.google = scope.google || {};\n",
              "scope.google.colab = scope.google.colab || {};\n",
              "scope.google.colab._files = {\n",
              "  _uploadFiles,\n",
              "  _uploadFilesContinue,\n",
              "};\n",
              "})(self);\n",
              "</script> "
            ]
          },
          "metadata": {}
        },
        {
          "output_type": "stream",
          "name": "stdout",
          "text": [
            "Saving kaggle.json to kaggle.json\n",
            "User uploaded file \"kaggle.json\" with length 65 bytes\n"
          ]
        }
      ],
      "source": [
        "from google.colab import files\n",
        "\n",
        "uploaded = files.upload()\n",
        "\n",
        "for fn in uploaded.keys():\n",
        "  print('User uploaded file \"{name}\" with length {length} bytes'.format(\n",
        "      name=fn, length=len(uploaded[fn])))\n",
        "\n",
        "# Then move kaggle.json into the folder where the API expects to find it.\n",
        "!mkdir -p ~/.kaggle/ && mv kaggle.json ~/.kaggle/ && chmod 600 ~/.kaggle/kaggle.json"
      ]
    },
    {
      "cell_type": "code",
      "source": [
        "!kaggle datasets download -d nirmalsankalana/sugarcane-leaf-disease-dataset"
      ],
      "metadata": {
        "colab": {
          "base_uri": "https://localhost:8080/"
        },
        "id": "54D2HDELI2gL",
        "outputId": "c5842473-bdc5-4a2f-a88f-adec213e4bea"
      },
      "execution_count": null,
      "outputs": [
        {
          "output_type": "stream",
          "name": "stdout",
          "text": [
            "Downloading sugarcane-leaf-disease-dataset.zip to /content\n",
            " 98% 157M/160M [00:07<00:00, 19.8MB/s]\n",
            "100% 160M/160M [00:07<00:00, 21.1MB/s]\n"
          ]
        }
      ]
    },
    {
      "cell_type": "code",
      "source": [
        "from zipfile import ZipFile\n",
        "file_name = \"/content/sugarcane-leaf-disease-dataset.zip\"\n",
        "with ZipFile(file_name,'r') as zip:\n",
        "  zip.extractall()\n",
        "  print('Done')"
      ],
      "metadata": {
        "colab": {
          "base_uri": "https://localhost:8080/"
        },
        "id": "J6IUKJDjJG82",
        "outputId": "d87000ef-9984-46e1-f48c-f955d3b02ce7"
      },
      "execution_count": null,
      "outputs": [
        {
          "output_type": "stream",
          "name": "stdout",
          "text": [
            "Done\n"
          ]
        }
      ]
    },
    {
      "cell_type": "code",
      "source": [
        "import zipfile\n",
        "import os\n",
        "import tensorflow as tf\n",
        "from tensorflow import keras\n",
        "from keras.callbacks import ReduceLROnPlateau\n",
        "from sklearn.metrics import confusion_matrix, classification_report\n",
        "import numpy as np # linear algebra\n",
        "import pandas as pd\n",
        "import seaborn as sns\n",
        "import matplotlib.pyplot as plt\n",
        "from PIL import Image,  ImageTk\n",
        "from sklearn.model_selection import train_test_split\n",
        "from pathlib import Path"
      ],
      "metadata": {
        "id": "mBgEr9A3MbVw"
      },
      "execution_count": null,
      "outputs": []
    },
    {
      "cell_type": "code",
      "source": [
        "import zipfile\n",
        "import os\n",
        "\n",
        "zip_file = \"/content/sugarcane-leaf-disease-dataset.zip\"\n",
        "extract_folder = \"extracted_folder\"\n",
        "\n",
        "# Create a ZipFile object\n",
        "with zipfile.ZipFile(zip_file, 'r') as zip_ref:\n",
        "    # Extract all the contents of zip file in the specified directory\n",
        "    zip_ref.extractall(extract_folder)\n",
        "\n",
        "print(\"Zip file extracted successfully!\")"
      ],
      "metadata": {
        "colab": {
          "base_uri": "https://localhost:8080/"
        },
        "id": "wlSQ_fF_Lq9Q",
        "outputId": "ed102dc9-f90d-4ac3-d7dd-14bef75145f5"
      },
      "execution_count": null,
      "outputs": [
        {
          "output_type": "stream",
          "name": "stdout",
          "text": [
            "Zip file extracted successfully!\n"
          ]
        }
      ]
    },
    {
      "cell_type": "code",
      "source": [
        "import os\n",
        "import glob\n",
        "import shutil\n",
        "import random\n",
        "\n",
        "def get_files(directory):\n",
        "    if not os.path.exists(directory):\n",
        "        return 0\n",
        "    count = 0\n",
        "    # crawls inside folders\n",
        "    for current_path, dirs, files in os.walk(directory):\n",
        "        for dr in dirs:\n",
        "            count += len(glob.glob(os.path.join(current_path, dr + \"/*\")))\n",
        "    return count\n",
        "\n",
        "def split_dataset(source_dir, train_dir, test_dir, val_dir, split_ratio=(0.6, 0.2, 0.2)):\n",
        "    if not os.path.exists(train_dir):\n",
        "        os.makedirs(train_dir)\n",
        "    if not os.path.exists(test_dir):\n",
        "        os.makedirs(test_dir)\n",
        "    if not os.path.exists(val_dir):\n",
        "        os.makedirs(val_dir)\n",
        "\n",
        "    # Get list of classes\n",
        "    classes = os.listdir(source_dir)\n",
        "\n",
        "    for class_name in classes:\n",
        "        class_source_dir = os.path.join(source_dir, class_name)\n",
        "        class_train_dir = os.path.join(train_dir, class_name)\n",
        "        class_test_dir = os.path.join(test_dir, class_name)\n",
        "        class_val_dir = os.path.join(val_dir, class_name)\n",
        "\n",
        "        if not os.path.exists(class_train_dir):\n",
        "            os.makedirs(class_train_dir)\n",
        "        if not os.path.exists(class_test_dir):\n",
        "            os.makedirs(class_test_dir)\n",
        "        if not os.path.exists(class_val_dir):\n",
        "            os.makedirs(class_val_dir)\n",
        "\n",
        "        files = os.listdir(class_source_dir)\n",
        "        random.shuffle(files)\n",
        "\n",
        "        num_files = len(files)\n",
        "        num_train = int(num_files * split_ratio[0])\n",
        "        num_test = int(num_files * split_ratio[1])\n",
        "        num_val = num_files - num_train - num_test\n",
        "\n",
        "        train_files = files[:num_train]\n",
        "        test_files = files[num_train:num_train+num_test]\n",
        "        val_files = files[num_train+num_test:]\n",
        "\n",
        "        for file in train_files:\n",
        "            src = os.path.join(class_source_dir, file)\n",
        "            dst = os.path.join(class_train_dir, file)\n",
        "            shutil.copy(src, dst)\n",
        "\n",
        "        for file in test_files:\n",
        "            src = os.path.join(class_source_dir, file)\n",
        "            dst = os.path.join(class_test_dir, file)\n",
        "            shutil.copy(src, dst)\n",
        "\n",
        "        for file in val_files:\n",
        "            src = os.path.join(class_source_dir, file)\n",
        "            dst = os.path.join(class_val_dir, file)\n",
        "            shutil.copy(src, dst)\n",
        "\n",
        "source_dir = \"/content/extracted_folder\"\n",
        "train_dir = \"/content/train\"\n",
        "test_dir = \"/content/test\"\n",
        "val_dir = \"/content/val\"\n",
        "\n",
        "split_dataset(source_dir, train_dir, test_dir, val_dir)\n"
      ],
      "metadata": {
        "id": "iclD24gmL-Tg"
      },
      "execution_count": null,
      "outputs": []
    },
    {
      "cell_type": "code",
      "source": [
        "# Train file image count\n",
        "train_samples = get_files(train_dir)\n",
        "# Validation file image count\n",
        "val_samples = get_files(val_dir)\n",
        "# Test file image count\n",
        "test_samples = get_files(test_dir)\n",
        "# To get tags\n",
        "num_classes = len(glob.glob(os.path.join(train_dir, \"*\")))\n",
        "\n",
        "print(num_classes, \"Classes\")\n",
        "print(train_samples, \"Train images\")\n",
        "print(val_samples, \"Validation images\")\n",
        "print(test_samples, \"Test images\")"
      ],
      "metadata": {
        "colab": {
          "base_uri": "https://localhost:8080/"
        },
        "id": "BfRR9hfEMFiU",
        "outputId": "25d939a2-2455-49ab-d413-0fac6c7a6484"
      },
      "execution_count": null,
      "outputs": [
        {
          "output_type": "stream",
          "name": "stdout",
          "text": [
            "5 Classes\n",
            "1511 Train images\n",
            "508 Validation images\n",
            "502 Test images\n"
          ]
        }
      ]
    },
    {
      "cell_type": "code",
      "source": [
        "import tensorflow as tf\n",
        "from tensorflow.keras.preprocessing.image import ImageDataGenerator\n",
        "from tensorflow.keras.applications import MobileNet\n",
        "from tensorflow.keras import layers, models, callbacks\n",
        "from sklearn.metrics import classification_report, confusion_matrix\n",
        "import matplotlib.pyplot as plt\n",
        "\n",
        "# Define directories and parameters\n",
        "train_dir = '/content/train'\n",
        "validation_dir = '/content/val'\n",
        "test_dir = '/content/test'\n",
        "img_height, img_width = 224, 224\n",
        "batch_size = 16\n",
        "epochs = 50\n",
        "\n",
        "# Define data generators\n",
        "train_datagen = ImageDataGenerator(rescale=1./255, shear_range=0.2, zoom_range=0.2, horizontal_flip=True)\n",
        "validation_datagen = ImageDataGenerator(rescale=1./255)\n",
        "test_datagen = ImageDataGenerator(rescale=1./255)\n",
        "\n",
        "train_generator = train_datagen.flow_from_directory(\n",
        "    train_dir,\n",
        "    target_size=(img_height, img_width),\n",
        "    batch_size=batch_size,\n",
        "    class_mode='categorical'\n",
        ")\n",
        "\n",
        "validation_generator = validation_datagen.flow_from_directory(\n",
        "    validation_dir,\n",
        "    target_size=(img_height, img_width),\n",
        "    batch_size=batch_size,\n",
        "    class_mode='categorical'\n",
        ")\n",
        "\n",
        "test_generator = test_datagen.flow_from_directory(\n",
        "    test_dir,\n",
        "    target_size=(img_height, img_width),\n",
        "    batch_size=batch_size,\n",
        "    class_mode='categorical'\n",
        ")\n",
        "\n",
        "# Load MobileNet base model\n",
        "base_model = MobileNet(input_shape=(img_height, img_width, 3), include_top=False, weights='imagenet')\n",
        "\n",
        "# Freeze base model layers\n",
        "for layer in base_model.layers:\n",
        "    layer.trainable = False\n",
        "\n",
        "# Construct the model\n",
        "model = models.Sequential([\n",
        "    base_model,\n",
        "    layers.GlobalAveragePooling2D(),\n",
        "    layers.Dense(128, activation='relu'),\n",
        "    layers.Dropout(0.5),\n",
        "    layers.Dense(train_generator.num_classes, activation='softmax')\n",
        "])\n",
        "\n",
        "# Compile the model\n",
        "model.compile(optimizer='adam', loss='categorical_crossentropy', metrics=['accuracy'])\n",
        "\n",
        "# Define early stopping callback\n",
        "early_stopping = callbacks.EarlyStopping(monitor='val_loss', patience=3, restore_best_weights=True)\n",
        "\n",
        "# Train the model with early stopping\n",
        "history = model.fit(\n",
        "    train_generator,\n",
        "    epochs=epochs,\n",
        "    validation_data=validation_generator,\n",
        "    callbacks=[early_stopping]\n",
        ")\n",
        "\n",
        "# Evaluate the model on the test data\n",
        "test_loss, test_acc = model.evaluate(test_generator)\n",
        "print(f'Test accuracy: {test_acc}')\n",
        "\n",
        "# Make predictions\n",
        "predictions = model.predict(test_generator)\n",
        "predicted_classes = tf.argmax(predictions, axis=1)\n",
        "true_classes = test_generator.classes\n",
        "\n",
        "# Print classification report\n",
        "print(classification_report(true_classes, predicted_classes))\n",
        "\n",
        "# Plot confusion matrix\n",
        "cm = confusion_matrix(true_classes, predicted_classes)\n",
        "plt.imshow(cm, interpolation='nearest', cmap=plt.cm.Blues)\n",
        "plt.title('Confusion Matrix')\n",
        "plt.colorbar()\n",
        "plt.xlabel('Predicted')\n",
        "plt.ylabel('True')\n",
        "plt.show()\n"
      ],
      "metadata": {
        "colab": {
          "base_uri": "https://localhost:8080/",
          "height": 1000
        },
        "id": "CT5Z9UofMJiq",
        "outputId": "9d109e5d-8824-4c14-a81a-1db9f602217e"
      },
      "execution_count": null,
      "outputs": [
        {
          "output_type": "stream",
          "name": "stdout",
          "text": [
            "Found 1511 images belonging to 5 classes.\n",
            "Found 508 images belonging to 5 classes.\n",
            "Found 502 images belonging to 5 classes.\n",
            "Downloading data from https://storage.googleapis.com/tensorflow/keras-applications/mobilenet/mobilenet_1_0_224_tf_no_top.h5\n",
            "17225924/17225924 [==============================] - 1s 0us/step\n",
            "Epoch 1/50\n",
            "95/95 [==============================] - 33s 293ms/step - loss: 1.1772 - accuracy: 0.5420 - val_loss: 0.7444 - val_accuracy: 0.7165\n",
            "Epoch 2/50\n",
            "95/95 [==============================] - 27s 286ms/step - loss: 0.7639 - accuracy: 0.7220 - val_loss: 0.5874 - val_accuracy: 0.7933\n",
            "Epoch 3/50\n",
            "95/95 [==============================] - 28s 292ms/step - loss: 0.6657 - accuracy: 0.7525 - val_loss: 0.6009 - val_accuracy: 0.7520\n",
            "Epoch 4/50\n",
            "95/95 [==============================] - 27s 286ms/step - loss: 0.5890 - accuracy: 0.7644 - val_loss: 0.4916 - val_accuracy: 0.8228\n",
            "Epoch 5/50\n",
            "95/95 [==============================] - 28s 290ms/step - loss: 0.5515 - accuracy: 0.7915 - val_loss: 0.5650 - val_accuracy: 0.7894\n",
            "Epoch 6/50\n",
            "95/95 [==============================] - 27s 285ms/step - loss: 0.4760 - accuracy: 0.8253 - val_loss: 0.4921 - val_accuracy: 0.8091\n",
            "Epoch 7/50\n",
            "95/95 [==============================] - 27s 282ms/step - loss: 0.4331 - accuracy: 0.8392 - val_loss: 0.4618 - val_accuracy: 0.8268\n",
            "Epoch 8/50\n",
            "95/95 [==============================] - 27s 288ms/step - loss: 0.4289 - accuracy: 0.8345 - val_loss: 0.4503 - val_accuracy: 0.8386\n",
            "Epoch 9/50\n",
            "95/95 [==============================] - 28s 291ms/step - loss: 0.4009 - accuracy: 0.8570 - val_loss: 0.4391 - val_accuracy: 0.8445\n",
            "Epoch 10/50\n",
            "95/95 [==============================] - 27s 288ms/step - loss: 0.3381 - accuracy: 0.8729 - val_loss: 0.4385 - val_accuracy: 0.8287\n",
            "Epoch 11/50\n",
            "95/95 [==============================] - 27s 288ms/step - loss: 0.3519 - accuracy: 0.8776 - val_loss: 0.5127 - val_accuracy: 0.8169\n",
            "Epoch 12/50\n",
            "95/95 [==============================] - 27s 286ms/step - loss: 0.3247 - accuracy: 0.8862 - val_loss: 0.4894 - val_accuracy: 0.8327\n",
            "Epoch 13/50\n",
            "95/95 [==============================] - 27s 287ms/step - loss: 0.3415 - accuracy: 0.8723 - val_loss: 0.4467 - val_accuracy: 0.8366\n",
            "32/32 [==============================] - 4s 115ms/step - loss: 0.4683 - accuracy: 0.8446\n",
            "Test accuracy: 0.8446215391159058\n",
            "32/32 [==============================] - 4s 107ms/step\n",
            "              precision    recall  f1-score   support\n",
            "\n",
            "           0       0.22      0.27      0.24       104\n",
            "           1       0.16      0.14      0.15        92\n",
            "           2       0.24      0.23      0.24       103\n",
            "           3       0.23      0.23      0.23       102\n",
            "           4       0.27      0.25      0.26       101\n",
            "\n",
            "    accuracy                           0.23       502\n",
            "   macro avg       0.22      0.22      0.22       502\n",
            "weighted avg       0.22      0.23      0.22       502\n",
            "\n"
          ]
        },
        {
          "output_type": "display_data",
          "data": {
            "text/plain": [
              "<Figure size 640x480 with 2 Axes>"
            ],
            "image/png": "[encoded data removed]"
          },
          "metadata": {}
        }
      ]
    },
    {
      "cell_type": "code",
      "source": [
        "from sklearn.metrics import classification_report\n",
        "\n",
        "# Get true labels for the test data\n",
        "true_classes = []\n",
        "num_batches = len(test_generator)\n",
        "for i in range(num_batches):\n",
        "    _, batch_true_classes = test_generator[i]\n",
        "    true_classes.extend(batch_true_classes.argmax(axis=1))\n",
        "\n",
        "# Make predictions\n",
        "predictions = model.predict(test_generator)\n",
        "predicted_classes = tf.argmax(predictions, axis=1)\n",
        "\n",
        "# Print classification report\n",
        "print(classification_report(true_classes, predicted_classes))\n"
      ],
      "metadata": {
        "colab": {
          "base_uri": "https://localhost:8080/"
        },
        "id": "lwT55oHojKuA",
        "outputId": "3a9f5698-3370-4145-e6d3-be131a385fea"
      },
      "execution_count": null,
      "outputs": [
        {
          "output_type": "stream",
          "name": "stdout",
          "text": [
            "32/32 [==============================] - 3s 106ms/step\n",
            "              precision    recall  f1-score   support\n",
            "\n",
            "           0       0.78      0.94      0.86       104\n",
            "           1       0.87      0.77      0.82        92\n",
            "           2       0.85      0.83      0.84       103\n",
            "           3       0.90      0.89      0.90       102\n",
            "           4       0.84      0.77      0.80       101\n",
            "\n",
            "    accuracy                           0.84       502\n",
            "   macro avg       0.85      0.84      0.84       502\n",
            "weighted avg       0.85      0.84      0.84       502\n",
            "\n"
          ]
        }
      ]
    },
    {
      "cell_type": "code",
      "source": [
        "from sklearn.metrics import confusion_matrix\n",
        "import matplotlib.pyplot as plt\n",
        "\n",
        "class_labels = list(test_generator.class_indices.keys())\n",
        "\n",
        "conf_matrix = confusion_matrix(true_classes, predicted_classes)\n",
        "print(\"Confusion Matrix:\")\n",
        "print(conf_matrix)\n",
        "\n",
        "\n",
        "plt.figure(figsize=(10, 6))\n",
        "plt.plot(history.history['loss'], label='Training Loss')\n",
        "plt.plot(history.history['val_loss'], label='Validation Loss')\n",
        "plt.title('Training and Validation Loss')\n",
        "plt.xlabel('Epoch')\n",
        "plt.ylabel('Loss')\n",
        "plt.legend()\n",
        "plt.show()"
      ],
      "metadata": {
        "id": "bZ4VXUOHMUrm",
        "colab": {
          "base_uri": "https://localhost:8080/",
          "height": 668
        },
        "outputId": "c5da588f-6213-47fe-936a-de453d0567ff"
      },
      "execution_count": null,
      "outputs": [
        {
          "output_type": "stream",
          "name": "stdout",
          "text": [
            "Confusion Matrix:\n",
            "[[98  0  3  1  2]\n",
            " [11 71  3  3  4]\n",
            " [ 3  3 86  3  8]\n",
            " [ 5  2  3 91  1]\n",
            " [ 8  6  6  3 78]]\n"
          ]
        },
        {
          "output_type": "display_data",
          "data": {
            "text/plain": [
              "<Figure size 1000x600 with 1 Axes>"
            ],
            "image/png": "[encoded data removed]"
          },
          "metadata": {}
        }
      ]
    },
    {
      "cell_type": "code",
      "source": [
        "plt.figure(figsize=(10, 6))\n",
        "plt.plot(history.history['accuracy'], label='Training Accuracy')\n",
        "plt.plot(history.history['val_accuracy'], label='Validation Accuracy')\n",
        "plt.title('Training and Validation Accuracy')\n",
        "plt.xlabel('Epoch')\n",
        "plt.ylabel('Accuracy')\n",
        "plt.legend()\n",
        "plt.show()\n"
      ],
      "metadata": {
        "colab": {
          "base_uri": "https://localhost:8080/",
          "height": 564
        },
        "id": "7dbPJQ7cbG7i",
        "outputId": "f9670382-989f-4066-8c80-bac0fc9b105e"
      },
      "execution_count": null,
      "outputs": [
        {
          "output_type": "display_data",
          "data": {
            "text/plain": [
              "<Figure size 1000x600 with 1 Axes>"
            ],
            "image/png": "[encoded data removed]"
          },
          "metadata": {}
        }
      ]
    },
    {
      "cell_type": "code",
      "source": [],
      "metadata": {
        "id": "bUplpUf-QXnH"
      },
      "execution_count": null,
      "outputs": []
    }
  ]
}